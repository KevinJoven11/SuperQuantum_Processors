{
 "cells": [
  {
   "cell_type": "code",
   "execution_count": 1,
   "metadata": {},
   "outputs": [
    {
     "data": {
      "text/html": [
       "\n",
       "    <h1 style=\"\n",
       "        background: #12c2e9;  /* fallback for old browsers */\n",
       "        background: -webkit-linear-gradient(to right, #d4418e 0%, #0652c5 74%);  /* Chrome 10-25, Safari 5.1-6 */\n",
       "        background: linear-gradient(315deg, #d4418e 0%, #0652c5 74%); /* W3C, IE 10+/ Edge, Firefox 16+, Chrome 26+, Opera 12+, Safari 7+ */\n",
       "        margin-top: 50px;\n",
       "        border-style: outset;\n",
       "        padding-top:100px;\n",
       "        padding-bottom:50px;\n",
       "        padding-left:25px;\n",
       "        color: white;\n",
       "    \"> Two-Qubits Quantum Processor Design! This design is base on the paper \"Demostration of Two-Qubit      Algorithm with a Superconducting Quantum Processor\" <h1>\n",
       "        "
      ],
      "text/plain": [
       "<IPython.core.display.HTML object>"
      ]
     },
     "metadata": {},
     "output_type": "display_data"
    }
   ],
   "source": [
    "from qiskit_metal import designs, draw, MetalGUI, Dict, open_docs\n",
    "from qiskit_metal.qlibrary.qubits.transmon_pocket import TransmonPocket\n",
    "from qiskit_metal.qlibrary.tlines.meandered import RouteMeander\n",
    "from qiskit_metal.qlibrary.terminations.launchpad_wb_coupled import LaunchpadWirebondCoupled\n",
    "from qiskit_metal.qlibrary.tlines.straight_path import RouteStraight\n",
    "%metal_heading Two-Qubits Quantum Processor Design! This design is base on the paper \"Demostration of Two-Qubit \\\n",
    "    Algorithm with a Superconducting Quantum Processor\""
   ]
  },
  {
   "cell_type": "code",
   "execution_count": 2,
   "metadata": {},
   "outputs": [],
   "source": [
    "design = designs.DesignPlanar()\n",
    "design.overwrite_enabled = True\n",
    "design.chips.main\n",
    "design.chips.main.size.size_x = '11mm'\n",
    "design.chips.main.size.size_y = '9mm'\n",
    "gui = MetalGUI(design)"
   ]
  },
  {
   "cell_type": "code",
   "execution_count": 3,
   "metadata": {},
   "outputs": [
    {
     "name": "stderr",
     "output_type": "stream",
     "text": [
      "11:26PM 00s WARNING [check_lengths]: For path table, component=coupler_2, key=trace has short segments that could cause issues with fillet. Values in (1-2)  are index(es) in shapely geometry.\n",
      "11:26PM 00s WARNING [check_lengths]: For path table, component=coupler_2, key=cut has short segments that could cause issues with fillet. Values in (1-2)  are index(es) in shapely geometry.\n"
     ]
    }
   ],
   "source": [
    "options_q1 = Dict(\n",
    "    connection_pads=Dict(\n",
    "        a = dict(loc_W=+1,loc_H=+1),\n",
    "        b = dict(loc_W=-1,loc_H=+1),\n",
    "        #c = dict(loc_W=+1,loc_H=-1),\n",
    "        d = dict(loc_W=-1,loc_H=-1)\n",
    "    )\n",
    ")\n",
    "\n",
    "options_q2 = Dict(\n",
    "    connection_pads=Dict(\n",
    "        a = dict(loc_W=+1,loc_H=+1),\n",
    "        b = dict(loc_W=-1,loc_H=+1),\n",
    "        c = dict(loc_W=+1,loc_H=-1),\n",
    "        #d = dict(loc_W=-1,loc_H=-1)\n",
    "    )\n",
    ")\n",
    "\n",
    "launch_options_1 = dict(pos_x='-1mm', pos_y='0.7mm', orientation='0', lead_length='10um')\n",
    "launch_options_2 = dict(pos_x='-0.5mm', pos_y='-0.5mm', orientation='90', lead_length='10um')\n",
    "launch_options_3 = dict(pos_x='6mm', pos_y='0.3mm', orientation='180', lead_length='10um')\n",
    "launch_options_4 = dict(pos_x='5mm', pos_y='1.6mm', orientation='-90', lead_length='10um')\n",
    "\n",
    "lp1 = LaunchpadWirebondCoupled(design, 'LP1', options = launch_options_1)\n",
    "lp2 = LaunchpadWirebondCoupled(design, 'LP2', options = launch_options_2)\n",
    "lp3 = LaunchpadWirebondCoupled(design, 'LP3', options = launch_options_3)\n",
    "lp4 = LaunchpadWirebondCoupled(design, 'LP4', options = launch_options_4)\n",
    "\n",
    "q1 = TransmonPocket(design, 'Q1',options = dict(**options_q1))\n",
    "q2 = TransmonPocket(design, 'Q2',options = dict(**options_q2))\n",
    "\n",
    "q1.options.pos_x = '0.5 mm'\n",
    "q1.options.pos_y = '0.5 mm'\n",
    "q1.options.orientation = '0'\n",
    "\n",
    "q2.options.pos_x = '4.25 mm'\n",
    "q2.options.pos_y = '0.5 mm'\n",
    "q2.options.orientation = '0'\n",
    "\n",
    "options = Dict(\n",
    "        lead=Dict(\n",
    "            start_straight='0.2mm',\n",
    "            end_straight='0.1mm'),\n",
    "        trace_gap='5um',\n",
    "        trace_width='8um')\n",
    "\n",
    "bus_1 = RouteStraight(design, 'coupler_1', Dict(\n",
    "        fillet='90um',\n",
    "        pin_inputs=Dict(\n",
    "            start_pin=Dict(component='Q1', pin='b'),\n",
    "            end_pin=Dict(component='LP1', pin='tie')),\n",
    "        lead=Dict(\n",
    "            start_straight='0.2mm',\n",
    "            end_straight='0.1mm')))\n",
    "\n",
    "bus_2 = RouteStraight(design, 'coupler_2', Dict(\n",
    "        fillet='90um',\n",
    "        pin_inputs=Dict(\n",
    "            start_pin=Dict(component='Q1', pin='d'),\n",
    "            end_pin=Dict(component='LP2', pin='tie')),\n",
    "        lead=Dict(\n",
    "            start_straight='0.2mm',\n",
    "            end_straight='0.1mm')))\n",
    "\n",
    "bus_3 = RouteStraight(design, 'coupler_3', Dict(\n",
    "        fillet='90um',\n",
    "        pin_inputs=Dict(\n",
    "            start_pin=Dict(component='Q2', pin='a'),\n",
    "            end_pin=Dict(component='LP4', pin='tie')),\n",
    "        lead=Dict(\n",
    "            start_straight='0.2mm',\n",
    "            end_straight='0.1mm')))\n",
    "\n",
    "bus_4 = RouteStraight(design, 'coupler_4', Dict(\n",
    "        fillet='90um',\n",
    "        pin_inputs=Dict(\n",
    "            start_pin=Dict(component='Q2', pin='c'),\n",
    "            end_pin=Dict(component='LP3', pin='tie')),\n",
    "        lead=Dict(\n",
    "            start_straight='0.2mm',\n",
    "            end_straight='0.1mm')))\n",
    "\n",
    "myoptions = Dict(\n",
    "    fillet='90um',\n",
    "    hfss_wire_bonds = True,\n",
    "    pin_inputs=Dict(\n",
    "            start_pin=Dict(\n",
    "                component='Q1',\n",
    "                pin='a'),\n",
    "            end_pin=Dict(\n",
    "                component='Q2',\n",
    "                pin='b')),\n",
    "        total_length='10 mm')\n",
    "\n",
    "myoptions.update(options)\n",
    "cpw1 = RouteMeander(design, 'cpw1', myoptions)"
   ]
  },
  {
   "cell_type": "code",
   "execution_count": 7,
   "metadata": {},
   "outputs": [],
   "source": [
    "gui.rebuild()"
   ]
  },
  {
   "cell_type": "code",
   "execution_count": 8,
   "metadata": {},
   "outputs": [
    {
     "data": {
      "text/html": [
       "<h3>Version Information</h3><table><tr><th>Qiskit Software</th><th>Version</th></tr><tr><td>Qiskit</td><td>0.27.0</td></tr><tr><td>Terra</td><td>0.17.4</td></tr><tr><td>Aer</td><td>0.8.2</td></tr><tr><td>Ignis</td><td>0.6.0</td></tr><tr><td>Aqua</td><td>0.9.2</td></tr><tr><td>IBM Q Provider</td><td>0.14.0</td></tr><tr><th>System information</th></tr><tr><td>Python</td><td>3.9.5 (tags/v3.9.5:0a7dcbd, May  3 2021, 17:27:52) [MSC v.1928 64 bit (AMD64)]</td></tr><tr><td>OS</td><td>Windows</td></tr><tr><td>CPUs</td><td>4</td></tr><tr><td>Memory (Gb)</td><td>5.944164276123047</td></tr><tr><td colspan='2'>Fri Sep 30 23:27:29 2022 Eastern Daylight Time</td></tr></table>"
      ],
      "text/plain": [
       "<IPython.core.display.HTML object>"
      ]
     },
     "metadata": {},
     "output_type": "display_data"
    }
   ],
   "source": [
    "import qiskit.tools.jupyter\n",
    "%qiskit_version_table"
   ]
  },
  {
   "cell_type": "code",
   "execution_count": null,
   "metadata": {},
   "outputs": [],
   "source": []
  }
 ],
 "metadata": {
  "kernelspec": {
   "display_name": "Python 3.9.5 64-bit",
   "language": "python",
   "name": "python3"
  },
  "language_info": {
   "codemirror_mode": {
    "name": "ipython",
    "version": 3
   },
   "file_extension": ".py",
   "mimetype": "text/x-python",
   "name": "python",
   "nbconvert_exporter": "python",
   "pygments_lexer": "ipython3",
   "version": "3.9.5"
  },
  "orig_nbformat": 4,
  "vscode": {
   "interpreter": {
    "hash": "b692c5112b84cb0f0146006066a71ec03118a3195a234c45307942b05862c083"
   }
  }
 },
 "nbformat": 4,
 "nbformat_minor": 2
}
