{
 "cells": [
  {
   "cell_type": "code",
   "execution_count": 54,
   "metadata": {},
   "outputs": [
    {
     "data": {
      "text/html": [
       "\n",
       "    <h1 style=\"\n",
       "        background: #12c2e9;  /* fallback for old browsers */\n",
       "        background: -webkit-linear-gradient(to right, #d4418e 0%, #0652c5 74%);  /* Chrome 10-25, Safari 5.1-6 */\n",
       "        background: linear-gradient(315deg, #d4418e 0%, #0652c5 74%); /* W3C, IE 10+/ Edge, Firefox 16+, Chrome 26+, Opera 12+, Safari 7+ */\n",
       "        margin-top: 50px;\n",
       "        border-style: outset;\n",
       "        padding-top:100px;\n",
       "        padding-bottom:50px;\n",
       "        padding-left:25px;\n",
       "        color: white;\n",
       "    \"> Two-Qubits Quantum Processor Design! This design is base on the paper \"Demostration of Two-Qubit      Algorithm with a Superconducting Quantum Processor\" <h1>\n",
       "        "
      ],
      "text/plain": [
       "<IPython.core.display.HTML object>"
      ]
     },
     "metadata": {},
     "output_type": "display_data"
    }
   ],
   "source": [
    "from qiskit_metal import designs, draw, MetalGUI, Dict, open_docs\n",
    "from qiskit_metal.qlibrary.qubits.transmon_pocket import TransmonPocket\n",
    "from qiskit_metal.qlibrary.tlines.meandered import RouteMeander\n",
    "%metal_heading Two-Qubits Quantum Processor Design! This design is base on the paper \"Demostration of Two-Qubit \\\n",
    "    Algorithm with a Superconducting Quantum Processor\""
   ]
  },
  {
   "cell_type": "code",
   "execution_count": 55,
   "metadata": {},
   "outputs": [],
   "source": [
    "design = designs.DesignPlanar()\n",
    "design.overwrite_enabled = True\n",
    "design.chips.main\n",
    "design.chips.main.size.size_x = '11mm'\n",
    "design.chips.main.size.size_y = '9mm'\n",
    "gui = MetalGUI(design)"
   ]
  },
  {
   "cell_type": "code",
   "execution_count": 56,
   "metadata": {},
   "outputs": [],
   "source": [
    "options_q1 = Dict(\n",
    "    connection_pads=Dict(\n",
    "        a = dict(loc_W=+1,loc_H=+1),\n",
    "        b = dict(loc_W=-1,loc_H=+1),\n",
    "        #c = dict(loc_W=+1,loc_H=-1),\n",
    "        d = dict(loc_W=-1,loc_H=-1)\n",
    "    )\n",
    ")\n",
    "\n",
    "options_q2 = Dict(\n",
    "    connection_pads=Dict(\n",
    "        a = dict(loc_W=+1,loc_H=+1),\n",
    "        b = dict(loc_W=-1,loc_H=+1),\n",
    "        c = dict(loc_W=+1,loc_H=-1),\n",
    "        #d = dict(loc_W=-1,loc_H=-1)\n",
    "    )\n",
    ")\n",
    "\n",
    "q1 = TransmonPocket(design, 'Q1',options = dict(**options_q1))\n",
    "q2 = TransmonPocket(design, 'Q2',options = dict(**options_q2))\n",
    "\n",
    "q1.options.pos_x = '0.5 mm'\n",
    "q1.options.pos_y = '0.5 mm'\n",
    "q1.options.orientation = '0'\n",
    "\n",
    "q2.options.pos_x = '4.25 mm'\n",
    "q2.options.pos_y = '0.5 mm'\n",
    "q2.options.orientation = '0'\n",
    "\n",
    "options = Dict(\n",
    "        lead=Dict(\n",
    "            start_straight='0.2mm',\n",
    "            end_straight='0.1mm'),\n",
    "        trace_gap='5um',\n",
    "        trace_width='8um')\n",
    "\n",
    "myoptions = Dict(\n",
    "    fillet='90um',\n",
    "    hfss_wire_bonds = True,\n",
    "    pin_inputs=Dict(\n",
    "            start_pin=Dict(\n",
    "                component='Q1',\n",
    "                pin='a'),\n",
    "            end_pin=Dict(\n",
    "                component='Q2',\n",
    "                pin='b')),\n",
    "        total_length='10 mm')\n",
    "\n",
    "myoptions.update(options)\n",
    "\n",
    "cpw1 = RouteMeander(design, 'cpw1', myoptions)"
   ]
  },
  {
   "cell_type": "code",
   "execution_count": 57,
   "metadata": {},
   "outputs": [],
   "source": [
    "gui.rebuild()"
   ]
  },
  {
   "cell_type": "markdown",
   "metadata": {},
   "source": []
  }
 ],
 "metadata": {
  "kernelspec": {
   "display_name": "Python 3.9.5 64-bit",
   "language": "python",
   "name": "python3"
  },
  "language_info": {
   "codemirror_mode": {
    "name": "ipython",
    "version": 3
   },
   "file_extension": ".py",
   "mimetype": "text/x-python",
   "name": "python",
   "nbconvert_exporter": "python",
   "pygments_lexer": "ipython3",
   "version": "3.9.5"
  },
  "orig_nbformat": 4,
  "vscode": {
   "interpreter": {
    "hash": "b692c5112b84cb0f0146006066a71ec03118a3195a234c45307942b05862c083"
   }
  }
 },
 "nbformat": 4,
 "nbformat_minor": 2
}
